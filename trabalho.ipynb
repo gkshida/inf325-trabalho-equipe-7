{
  "nbformat": 4,
  "nbformat_minor": 0,
  "metadata": {
    "colab": {
      "name": "trabalho.ipynb",
      "provenance": [],
      "collapsed_sections": []
    },
    "kernelspec": {
      "name": "python3",
      "display_name": "Python 3"
    }
  },
  "cells": [
    {
      "cell_type": "markdown",
      "metadata": {
        "id": "0N8FOV5_vZYE",
        "colab_type": "text"
      },
      "source": [
        "# Trabalho INF325"
      ]
    }
  ]
}