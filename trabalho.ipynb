{
  "nbformat": 4,
  "nbformat_minor": 0,
  "metadata": {
    "colab": {
      "name": "trabalho.ipynb",
      "provenance": [],
      "collapsed_sections": [],
      "authorship_tag": "ABX9TyM+lJvfQLaegfqb6a/G9OXl",
      "include_colab_link": true
    },
    "kernelspec": {
      "name": "python3",
      "display_name": "Python 3"
    }
  },
  "cells": [
    {
      "cell_type": "markdown",
      "metadata": {
        "id": "view-in-github",
        "colab_type": "text"
      },
      "source": [
        "<a href=\"https://colab.research.google.com/github/gkshida/inf325-trabalho-equipe-7/blob/master/trabalho.ipynb\" target=\"_parent\"><img src=\"https://colab.research.google.com/assets/colab-badge.svg\" alt=\"Open In Colab\"/></a>"
      ]
    },
    {
      "cell_type": "markdown",
      "metadata": {
        "id": "0N8FOV5_vZYE",
        "colab_type": "text"
      },
      "source": [
        "# Trabalho INF325"
      ]
    },
    {
      "cell_type": "code",
      "metadata": {
        "id": "vaZtn9Eiy_Hw",
        "colab_type": "code",
        "colab": {}
      },
      "source": [
        "!wget https://www.w3resource.com/mongodb-exercises/restaurants.zip\n",
        "!unzip -o restaurants.zip\n",
        "!rm restaurants.zip"
      ],
      "execution_count": null,
      "outputs": []
    },
    {
      "cell_type": "code",
      "metadata": {
        "id": "3xoN3Q0zzAy1",
        "colab_type": "code",
        "colab": {}
      },
      "source": [
        "!mongoimport --db exercicio1 --collection restaurants --drop --file $(pwd)/restaurants.json"
      ],
      "execution_count": null,
      "outputs": []
    },
    {
      "cell_type": "code",
      "metadata": {
        "id": "vWrvODaczC6g",
        "colab_type": "code",
        "colab": {}
      },
      "source": [
        "from pymongo import MongoClient\n",
        "from pprintpp import pprint\n",
        "import warnings\n",
        "warnings.filterwarnings('ignore')\n",
        "mongoclient = MongoClient('localhost', 27017)\n",
        "db = mongoclient.exercicio1\n",
        "print(db)\n",
        "db.restaurants.find({}).count()"
      ],
      "execution_count": null,
      "outputs": []
    }
  ]
}